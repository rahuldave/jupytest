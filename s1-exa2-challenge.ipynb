{
    "metadata": {
        "kernelspec": {
            "name": "python3",
            "display_name": "Python 3 (ipykernel)",
            "language": "python"
        }
    },
    "nbformat": 4,
    "nbformat_minor": 4,
    "cells": [
        {
            "cell_type": "code",
            "execution_count": 0,
            "metadata": {},
            "outputs": [],
            "source": [
                "# Import required libraries\n",
                "import numpy as np\n",
                "import pandas as pd\n",
                "import matplotlib.pyplot as plt\n",
                "from sklearn.neighbors import KNeighborsRegressor\n",
                "from sklearn.model_selection import train_test_split\n",
                "%matplotlib inline\n",
                ""
            ]
        },
        {
            "cell_type": "code",
            "execution_count": 0,
            "metadata": {},
            "outputs": [],
            "source": [
                "# Read the data from the file \"Advertising.csv\"\n",
                "filename = 'Advertising.csv'\n",
                "df_adv = pd.read_csv(filename)\n",
                ""
            ]
        },
        {
            "cell_type": "code",
            "execution_count": 0,
            "metadata": {},
            "outputs": [],
            "source": [
                "# Take a quick look of the dataset\n",
                "df_adv.head()\n",
                ""
            ]
        },
        {
            "attachments": {},
            "cell_type": "markdown",
            "metadata": {},
            "source": [
                "## Part 1: KNN by hand for $k=1$"
            ]
        },
        {
            "cell_type": "code",
            "execution_count": 0,
            "metadata": {},
            "outputs": [],
            "source": [
                "# Get a subset of the data i.e. rows 5 to 13\n",
                "# Use the TV column as the predictor\n",
                "x_true = df_adv.TV.iloc[5:13]\n",
                "\n",
                "# Use the Sales column as the response\n",
                "y_true = df_adv.Sales.iloc[5:13]\n",
                "\n",
                "# Sort the data to get indices ordered from lowest to highest TV values\n",
                "idx = np.argsort(___).values \n",
                "\n",
                "# Get the predictor data in the order given by idx above\n",
                "x_true  = x_true.iloc[idx].values\n",
                "\n",
                "# Get the response data in the order given by idx above\n",
                "y_true  = y_true.iloc[idx].values\n",
                ""
            ]
        },
        {
            "cell_type": "code",
            "execution_count": 0,
            "metadata": {},
            "outputs": [],
            "source": [
                "### edTest(test_findnearest) ###\n",
                "# Define a function that finds the index of the nearest neighbor \n",
                "# and returns the value of the nearest neighbor.  \n",
                "# Note that this is just for k = 1 where the distance function is \n",
                "# simply the absolute value.\n",
                "\n",
                "def find_nearest(array,value):\n",
                "    \n",
                "    # Hint: To find idx, use .idxmin() function on the series\n",
                "    idx = pd.Series(np.abs(array-value)).___ \n",
                "\n",
                "    # Return the nearest neighbor index and value\n",
                "    return idx, array[idx]\n",
                ""
            ]
        },
        {
            "cell_type": "code",
            "execution_count": 0,
            "metadata": {},
            "outputs": [],
            "source": [
                "# Create some synthetic x-values (might not be in the actual dataset)\n",
                "x = np.linspace(np.min(x_true), np.max(x_true))\n",
                "\n",
                "# Initialize the y-values for the length of the synthetic x-values to zero\n",
                "y = np.zeros((len(x)))\n",
                ""
            ]
        },
        {
            "cell_type": "code",
            "execution_count": 0,
            "metadata": {},
            "outputs": [],
            "source": [
                "# Apply the KNN algorithm to predict the y-value for the given x value\n",
                "for i, xi in enumerate(x):\n",
                "\n",
                "    # Get the Sales values closest to the given x value\n",
                "    y[i] = y_true[find_nearest(x_true, xi )[0]]\n",
                ""
            ]
        },
        {
            "attachments": {},
            "cell_type": "markdown",
            "metadata": {},
            "source": [
                "### Plotting the data"
            ]
        },
        {
            "cell_type": "code",
            "execution_count": 0,
            "metadata": {},
            "outputs": [],
            "source": [
                "# Plot the synthetic data along with the predictions    \n",
                "plt.plot(x, y, '-.')\n",
                "\n",
                "# Plot the original data using black x's.\n",
                "plt.plot(___, ___, 'kx')\n",
                "\n",
                "# Set the title and axis labels\n",
                "plt.title('TV vs Sales')\n",
                "plt.xlabel('TV budget in $1000')\n",
                "plt.ylabel('Sales in units')\n",
                ""
            ]
        },
        {
            "attachments": {},
            "cell_type": "markdown",
            "metadata": {},
            "source": [
                "## Part 2: KNN for $k\\ge1$ using sklearn"
            ]
        },
        {
            "cell_type": "code",
            "execution_count": 0,
            "metadata": {},
            "outputs": [],
            "source": [
                "# Read the data from the file \"Advertising.csv\"\n",
                "data_filename = 'Advertising.csv'\n",
                "df = pd.read_csv(data_filename)\n",
                "\n",
                "# Set 'TV' as the 'predictor variable'   \n",
                "x = df[[___]]\n",
                "\n",
                "# Set 'Sales' as the response variable 'y' \n",
                "y = df[___]\n",
                ""
            ]
        },
        {
            "cell_type": "code",
            "execution_count": 0,
            "metadata": {},
            "outputs": [],
            "source": [
                "### edTest(test_shape) ###\n",
                "\n",
                "# Split the dataset in training and testing with 60% training set \n",
                "# and 40% testing set with random state = 42\n",
                "x_train, x_test, y_train, y_test = train_test_split(___, ___, train_size=___,random_state=___)\n",
                ""
            ]
        },
        {
            "cell_type": "code",
            "execution_count": 0,
            "metadata": {},
            "outputs": [],
            "source": [
                "### edTest(test_nums) ###\n",
                "\n",
                "# Choose the minimum k value based on the instructions given on the left\n",
                "k_value_min = ___\n",
                "\n",
                "# Choose the maximum k value based on the instructions given on the left\n",
                "k_value_max = ___\n",
                "\n",
                "\n",
                "# Create a list of integer k values betwwen k_value_min and k_value_max using linspace\n",
                "k_list = np.linspace(k_value_min, k_value_max, 70)\n",
                ""
            ]
        },
        {
            "cell_type": "code",
            "execution_count": 0,
            "metadata": {},
            "outputs": [],
            "source": [
                "# Set the grid to plot the values\n",
                "fig, ax = plt.subplots(figsize=(10,6))\n",
                "\n",
                "# Variable used to alter the linewidth of each plot\n",
                "j=0\n",
                "\n",
                "# Loop over all the k values\n",
                "for k_value in k_list:   \n",
                "    \n",
                "    # Creating a kNN Regression model \n",
                "    model = KNeighborsRegressor(n_neighbors=int(___))\n",
                "    \n",
                "    # Fitting the regression model on the training data \n",
                "    model.fit(___,___)\n",
                "    \n",
                "    # Use the trained model to predict on the test data \n",
                "    y_pred = model.predict(___)\n",
                "    \n",
                "    # Helper code to plot the data along with the model predictions\n",
                "    colors = ['grey','r','b']\n",
                "    if k_value in [1,10,70]:\n",
                "        xvals = np.linspace(x.min(),x.max(),100)\n",
                "        ypreds = model.predict(xvals)\n",
                "        ax.plot(xvals, ypreds,'-',label = f'k = {int(k_value)}',linewidth=j+2,color = colors[j])\n",
                "        j+=1\n",
                "        \n",
                "ax.legend(loc='lower right',fontsize=20)\n",
                "ax.plot(x_train, y_train,'x',label='train',color='k')\n",
                "ax.set_xlabel('TV budget in $1000',fontsize=20)\n",
                "ax.set_ylabel('Sales in units',fontsize=20)\n",
                "ax.set_title('TV vs Sales')\n",
                "plt.tight_layout()\n",
                ""
            ]
        },
        {
            "attachments": {},
            "cell_type": "markdown",
            "metadata": {},
            "source": [
                "#### ⏸ In the plotting code above, re-run `ax.plot(x_train, y_train,'x',label='train',color='k')` with `x_test` and `y_test` instead. According to you, which k value is the best and why?"
            ]
        },
        {
            "cell_type": "code",
            "execution_count": 0,
            "metadata": {},
            "outputs": [],
            "source": [
                "### edTest(test_chow1) ###\n",
                "# Type your answer within in the quotes given\n",
                "answer1 = '___'\n",
                ""
            ]
        },
        {
            "attachments": {},
            "cell_type": "markdown",
            "metadata": {},
            "source": [
                ""
            ]
        },
        {
            "cell_type": "code",
            "execution_count": 0,
            "metadata": {},
            "outputs": [],
            "source": [
                ""
            ]
        }
    ]
}
